{
 "cells": [
  {
   "cell_type": "code",
   "execution_count": 3,
   "id": "8e6f4019-34f7-4f5d-9e63-b423a2b881e6",
   "metadata": {},
   "outputs": [],
   "source": [
    "# ==== 0. Imports & setup ====\n",
    "import os\n",
    "from pathlib import Path\n",
    "import sys\n",
    "import math\n",
    "import warnings\n",
    "\n",
    "import numpy as np\n",
    "import pandas as pd\n",
    "import matplotlib.pyplot as plt\n",
    "\n",
    "# ✅ Choose your base data folder (pick one option only)\n",
    "\n",
    "# Option 1: project data root\n",
    "DATA = Path(\"D:/LightPollutionProject/data\")\n",
    "\n",
    "# Option 2: processed folder directly\n",
    "# DATA = Path(\"D:/LightPollutionProject/data/processed\")\n",
    "\n",
    "# Derived folders\n",
    "RAW = DATA / \"raw\"\n",
    "PROC = DATA / \"processed\"\n",
    "PLOTS = Path(\"D:/LightPollutionProject/plots\")\n",
    "\n",
    "from pathlib import Path\n",
    "\n",
    "# Define base paths (choose Option 1: recommended)\n",
    "DATA = Path(\"D:/LightPollutionProject/data\")\n",
    "PROC = DATA / \"processed\"\n",
    "PLOTS = Path(\"D:/LightPollutionProject/plots\")\n",
    "\n",
    "\n"
   ]
  },
  {
   "cell_type": "code",
   "execution_count": 4,
   "id": "7c836e3e-c5f9-43e0-83e2-f0d723264561",
   "metadata": {},
   "outputs": [],
   "source": [
    "# Make plots directory\n",
    "ROOT = Path(__file__).resolve().parents[1] if (\"__file__\" in globals()) else Path.cwd()\n",
    "PROJ = ROOT # assume script run from project root or src/\n",
    "DATA = PROJ / \"data\"\n",
    "PLOTS = PROJ / \"plots\"\n",
    "PROC = DATA / \"processed\"\n",
    "PLOTS.mkdir(parents=True, exist_ok=True)\n",
    "PROC.mkdir(parents=True, exist_ok=True)"
   ]
  },
  {
   "cell_type": "code",
   "execution_count": 5,
   "id": "5417a97b-8cb9-4a53-af1b-96f2f59ee289",
   "metadata": {},
   "outputs": [],
   "source": [
    "# File candidates\n",
    "SAMPLE = DATA / \"asia_nightlight_sample.csv\"\n",
    "BIG = DATA / \"VIIRS-nighttime-lights-2013m1to2024m5-level2.csv\""
   ]
  },
  {
   "cell_type": "code",
   "execution_count": 6,
   "id": "53203bbf-1017-4ed5-9681-6a5d9f95e801",
   "metadata": {},
   "outputs": [],
   "source": [
    "# Asia ISO list (UN style, broad)\n",
    "ASIA_ISO = {\n",
    "\"AFG\",\"ARM\",\"AZE\",\"BHR\",\"BGD\",\"BTN\",\"BRN\",\"KHM\",\"CHN\",\"CYP\",\"GEO\",\n",
    "\"IND\",\"IDN\",\"IRN\",\"IRQ\",\"ISR\",\"JPN\",\"JOR\",\"KAZ\",\"KWT\",\"KGZ\",\"LAO\",\n",
    "\"LBN\",\"MYS\",\"MDV\",\"MNG\",\"MMR\",\"NPL\",\"PRK\",\"OMN\",\"PAK\",\"PSE\",\"PHL\",\n",
    "\"QAT\",\"SAU\",\"SGP\",\"KOR\",\"LKA\",\"SYR\",\"TJK\",\"THA\",\"TLS\",\"TUR\",\"TKM\",\n",
    "\"ARE\",\"UZB\",\"VNM\",\"YEM\",\"TWN\",\"HKG\",\"MAC\"\n",
    "}"
   ]
  },
  {
   "cell_type": "code",
   "execution_count": 10,
   "id": "ca5160cf-d267-4bc2-b03b-471b6031171b",
   "metadata": {},
   "outputs": [],
   "source": [
    "# ==== 1. Data Loading ====\n",
    "\n",
    "def read_csv_safely(path: Path, usecols=None) -> pd.DataFrame:\n",
    "    \"\"\"Try utf-8, then latin-1; keep numeric types; avoid memory blowups.\"\"\"\n",
    "    if not path.exists():\n",
    "        raise FileNotFoundError(f\"File not found: {path}\")\n",
    "    \n",
    "    encodings = [\"utf-8\", \"utf-8-sig\", \"latin-1\"]\n",
    "    last_err = None\n",
    "    \n",
    "    for enc in encodings:\n",
    "        try:\n",
    "            df = pd.read_csv(path, encoding=enc, low_memory=False, usecols=usecols)\n",
    "            return df\n",
    "        except Exception as e:\n",
    "            last_err = e\n",
    "    \n",
    "    raise last_err\n",
    "\n",
    "\n",
    "def load_asia_df() -> pd.DataFrame:\n",
    "    \"\"\"Load sample if present; else stream-read big CSV and filter to Asia.\"\"\"\n",
    "    want_cols = [\"iso\",\"id_1\",\"name_1\",\"id_2\",\"name_2\",\"year\",\"month\",\"nlsum\",\"area\"]\n",
    "\n",
    "    if SAMPLE.exists():\n",
    "        df = read_csv_safely(SAMPLE, usecols=None)\n",
    "        # Ensure expected columns\n",
    "        missing = [c for c in want_cols if c not in df.columns]\n",
    "        if missing:\n",
    "            raise ValueError(f\"Sample CSV missing columns: {missing}\")\n",
    "        return df\n",
    "\n",
    "    if BIG.exists():\n",
    "        # Chunked read & filter to Asia to reduce memory\n",
    "        chunks = []\n",
    "        for chunk in pd.read_csv(BIG, chunksize=200_000, low_memory=False):\n",
    "            if \"iso\" not in chunk.columns:\n",
    "                raise ValueError(\"Expected 'iso' column in big CSV.\")\n",
    "            chunk = chunk.loc[chunk[\"iso\"].astype(str).isin(ASIA_ISO)]\n",
    "            # Keep only needed columns if present\n",
    "            keep = [c for c in want_cols if c in chunk.columns]\n",
    "            chunk = chunk[keep]\n",
    "            chunks.append(chunk)\n",
    "        \n",
    "        if not chunks:\n",
    "            raise RuntimeError(\"No Asia rows found in big CSV.\")\n",
    "        \n",
    "        df = pd.concat(chunks, ignore_index=True)\n",
    "        return df\n",
    "\n",
    "    raise FileNotFoundError(\n",
    "        f\"Neither sample nor big CSV found. Expected at: {SAMPLE} or {BIG}\"\n",
    "    )\n"
   ]
  },
  {
   "cell_type": "code",
   "execution_count": 12,
   "id": "54c2b25e-91f0-41b4-8411-6721b6f548ef",
   "metadata": {},
   "outputs": [],
   "source": [
    "# ==== 2. Preprocessing ====\n",
    "\n",
    "def preprocess(df: pd.DataFrame) -> pd.DataFrame:\n",
    "    df = df.copy()\n",
    "\n",
    "    # Types\n",
    "    for c in (\"year\", \"month\"):\n",
    "        df[c] = pd.to_numeric(df[c], errors=\"coerce\")\n",
    "    for c in (\"nlsum\", \"area\"):\n",
    "        df[c] = pd.to_numeric(df[c], errors=\"coerce\")\n",
    "\n",
    "    # Basic cleaning\n",
    "    df = df.dropna(subset=[\"iso\", \"year\", \"month\", \"nlsum\", \"area\"]).copy()\n",
    "    df = df[df[\"area\"] > 0].copy()\n",
    "    df = df[df[\"month\"].between(1, 12)].copy()\n",
    "    df[\"iso\"] = df[\"iso\"].astype(str).str.upper()\n",
    "\n",
    "    # Datetime index\n",
    "    df[\"date\"] = pd.to_datetime(\n",
    "        dict(year=df[\"year\"].astype(int), month=df[\"month\"].astype(int), day=1)\n",
    "    )\n",
    "\n",
    "    # Feature engineering: brightness per km²\n",
    "    df[\"nl_density\"] = df[\"nlsum\"] / df[\"area\"]\n",
    "\n",
    "    # Outlier handling (winsorize 1%/99%) on nl_density\n",
    "    lo, hi = df[\"nl_density\"].quantile([0.01, 0.99])\n",
    "    df[\"nl_density_clipped\"] = df[\"nl_density\"].clip(lower=lo, upper=hi)\n",
    "\n",
    "    # Keep only Asia iso codes (safety)\n",
    "    df = df[df[\"iso\"].isin(ASIA_ISO)].copy()\n",
    "\n",
    "    return df\n"
   ]
  },
  {
   "cell_type": "code",
   "execution_count": 14,
   "id": "af5ce2c6-5142-4d4a-9a82-aeff84d55e84",
   "metadata": {},
   "outputs": [],
   "source": [
    "# ==== 3. Aggregations ====\n",
    "\n",
    "def make_aggregates(df: pd.DataFrame) -> dict[str, pd.DataFrame]:\n",
    "    # Country-month average density\n",
    "    monthly = (\n",
    "        df.groupby([\"iso\", \"date\"], as_index=False)[\"nl_density_clipped\"].mean()\n",
    "        .rename(columns={\"nl_density_clipped\": \"avg_density\"})\n",
    "    )\n",
    "\n",
    "    # Country-year average density\n",
    "    yearly = (\n",
    "        df.groupby([\"iso\", \"year\"], as_index=False)[\"nl_density_clipped\"].mean()\n",
    "        .rename(columns={\"nl_density_clipped\": \"avg_density\"})\n",
    "    )\n",
    "\n",
    "    # Asia-average by year\n",
    "    asia_year = (\n",
    "        df.groupby(\"year\", as_index=False)[\"nl_density_clipped\"].mean()\n",
    "        .rename(columns={\"nl_density_clipped\": \"asia_avg_density\"})\n",
    "    )\n",
    "\n",
    "    # Top districts by long-run average density\n",
    "    if set([\"name_2\"]).issubset(df.columns):\n",
    "        district_rank = (\n",
    "            df.groupby([\"iso\", \"name_2\"], as_index=False)[\"nl_density_clipped\"].mean()\n",
    "            .rename(columns={\"nl_density_clipped\": \"avg_density\"})\n",
    "            .sort_values(\"avg_density\", ascending=False)\n",
    "        )\n",
    "    else:\n",
    "        district_rank = pd.DataFrame()\n",
    "\n",
    "    return {\n",
    "        \"monthly\": monthly,\n",
    "        \"yearly\": yearly,\n",
    "        \"asia_year\": asia_year,\n",
    "        \"district_rank\": district_rank,\n",
    "    }\n"
   ]
  },
  {
   "cell_type": "code",
   "execution_count": 16,
   "id": "ab73c38e-bc16-42b3-85c9-2b78d4c7f94a",
   "metadata": {},
   "outputs": [],
   "source": [
    "# ==== 4. Plotting helpers (Matplotlib only) ====\n",
    "\n",
    "def plot_asia_trend(asia_year: pd.DataFrame):\n",
    "    fig = plt.figure()\n",
    "    plt.plot(asia_year[\"year\"], asia_year[\"asia_avg_density\"], marker=\"o\")\n",
    "    plt.title(\"Asia — Average Nightlight Density by Year\")\n",
    "    plt.xlabel(\"Year\")\n",
    "    plt.ylabel(\"Avg nightlight density (clipped)\")\n",
    "    _savefig(PLOTS / \"asia_year_trend.png\")\n",
    "\n",
    "\n",
    "def plot_country_trends(yearly: pd.DataFrame, countries=(\"IND\",\"CHN\",\"JPN\",\"IDN\",\"PAK\")):\n",
    "    fig = plt.figure()\n",
    "    for iso in countries:\n",
    "        sub = yearly[yearly[\"iso\"] == iso]\n",
    "        if not sub.empty:\n",
    "            plt.plot(sub[\"year\"], sub[\"avg_density\"], marker=\"o\", label=iso)\n",
    "    plt.legend()\n",
    "    plt.title(\"Country Trends — Avg Nightlight Density by Year\")\n",
    "    plt.xlabel(\"Year\")\n",
    "    plt.ylabel(\"Avg nightlight density (clipped)\")\n",
    "    _savefig(PLOTS / \"country_year_trends.png\")\n",
    "\n",
    "\n",
    "def plot_distribution(df: pd.DataFrame):\n",
    "    fig = plt.figure()\n",
    "    plt.hist(df[\"nl_density\"].dropna(), bins=40)\n",
    "    plt.title(\"Distribution of Nightlight Density\")\n",
    "    plt.xlabel(\"Nightlight density\")\n",
    "    plt.ylabel(\"Count\")\n",
    "    _savefig(PLOTS / \"density_histogram.png\")\n",
    "\n",
    "\n",
    "def plot_top_districts(district_rank: pd.DataFrame, top_n=15):\n",
    "    if district_rank.empty:\n",
    "        return\n",
    "    top = district_rank.head(top_n).iloc[::-1]  # reverse for horizontal bar\n",
    "    fig = plt.figure()\n",
    "    plt.barh(top[\"name_2\"], top[\"avg_density\"])  # default colors\n",
    "    plt.title(f\"Top {top_n} Districts by Avg Nightlight Density\")\n",
    "    plt.xlabel(\"Avg nightlight density (clipped)\")\n",
    "    plt.ylabel(\"District (name_2)\")\n",
    "    _savefig(PLOTS / \"top_districts.png\")\n",
    "\n",
    "\n",
    "def plot_corr_heatmap(df: pd.DataFrame):\n",
    "    cols = [c for c in [\"nlsum\",\"area\",\"nl_density\",\"nl_density_clipped\"] if c in df.columns]\n",
    "    if len(cols) < 2:\n",
    "        return\n",
    "    corr = df[cols].corr(numeric_only=True)\n",
    "    fig = plt.figure()\n",
    "    im = plt.imshow(corr.values, aspect=\"auto\")\n",
    "    plt.colorbar(im)\n",
    "    plt.xticks(range(len(cols)), cols, rotation=45, ha=\"right\")\n",
    "    plt.yticks(range(len(cols)), cols)\n",
    "    plt.title(\"Correlation Heatmap (numeric features)\")\n",
    "    _savefig(PLOTS / \"correlation_heatmap.png\")\n"
   ]
  },
  {
   "cell_type": "code",
   "execution_count": 18,
   "id": "8f8fc2cb-543c-47a3-bdb6-b3e4526df212",
   "metadata": {},
   "outputs": [],
   "source": [
    "# ==== 5. Baseline model (optional) ====\n",
    "\n",
    "def baseline_forecast(yearly: pd.DataFrame, iso: str = \"IND\", horizon: int = 3):\n",
    "    if LinearRegression is None:\n",
    "        print(\"scikit-learn not available; skipping baseline forecast.\")\n",
    "        return\n",
    "    \n",
    "    sub = yearly[yearly[\"iso\"] == iso].dropna(subset=[\"avg_density\"])  # type: ignore\n",
    "    if len(sub) < 4:\n",
    "        print(f\"Not enough data points to fit baseline for {iso}.\")\n",
    "        return\n",
    "    \n",
    "    X = sub[[\"year\"]].values\n",
    "    y = sub[\"avg_density\"].values\n",
    "    model = LinearRegression().fit(X, y)\n",
    "    \n",
    "    last_year = int(sub[\"year\"].max())\n",
    "    future_years = np.arange(last_year + 1, last_year + 1 + horizon)\n",
    "    yhat = model.predict(future_years.reshape(-1, 1))\n",
    "\n",
    "    # Plot\n",
    "    fig = plt.figure()\n",
    "    plt.plot(sub[\"year\"], y, marker=\"o\", label=\"Actual\")\n",
    "    plt.plot(future_years, yhat, marker=\"o\", linestyle=\"--\", label=\"Forecast\")\n",
    "    plt.title(f\"Baseline Forecast ({iso}) — Avg Nightlight Density\")\n",
    "    plt.xlabel(\"Year\")\n",
    "    plt.ylabel(\"Avg nightlight density (clipped)\")\n",
    "    plt.legend()\n",
    "    _savefig(PLOTS / f\"baseline_forecast_{iso}.png\")\n"
   ]
  },
  {
   "cell_type": "code",
   "execution_count": 26,
   "id": "26ee257e-8d43-47f2-94c0-257059872a8b",
   "metadata": {
    "scrolled": true
   },
   "outputs": [
    {
     "name": "stdout",
     "output_type": "stream",
     "text": [
      "\n",
      "== Loading data ==\n",
      "Loaded: (200, 9) columns: ['iso', 'id_1', 'name_1', 'id_2', 'name_2', 'year', 'month', 'nlsum', 'area']\n",
      "\n",
      "== Preprocessing ==\n",
      "After preprocess: (200, 12)\n",
      "Saved: D:\\LightPollutionProject\\data\\processed\\asia_nightlights_processed.csv\n",
      "\n",
      "== Aggregations ==\n",
      "Saved: D:\\LightPollutionProject\\data\\processed\\monthly.csv\n",
      "Saved: D:\\LightPollutionProject\\data\\processed\\yearly.csv\n",
      "Saved: D:\\LightPollutionProject\\data\\processed\\asia_year.csv\n",
      "Saved: D:\\LightPollutionProject\\data\\processed\\district_rank.csv\n",
      "\n",
      "== EDA Plots ==\n",
      "Saved plot: D:\\LightPollutionProject\\plots\\asia_year_trend.png\n"
     ]
    },
    {
     "name": "stderr",
     "output_type": "stream",
     "text": [
      "C:\\Users\\one\\AppData\\Local\\Temp\\ipykernel_34656\\3100224981.py:18: UserWarning: No artists with labels found to put in legend.  Note that artists whose label start with an underscore are ignored when legend() is called with no argument.\n",
      "  plt.legend()\n"
     ]
    },
    {
     "name": "stdout",
     "output_type": "stream",
     "text": [
      "Saved plot: D:\\LightPollutionProject\\plots\\country_year_trends.png\n",
      "Saved plot: D:\\LightPollutionProject\\plots\\density_histogram.png\n",
      "Saved plot: D:\\LightPollutionProject\\plots\\correlation_heatmap.png\n",
      "Saved plot: D:\\LightPollutionProject\\plots\\top_districts.png\n",
      "\n",
      "== Baseline Forecast ==\n",
      "Not enough data points to fit baseline for IND.\n",
      "\n",
      "Done. Check the 'processed' CSVs in data/processed/ and PNGs in plots/.\n"
     ]
    }
   ],
   "source": [
    "# ==== 6. Main ====\n",
    "\n",
    "def main():\n",
    "    print(\"\\n== Loading data ==\")\n",
    "    df = load_asia_df()\n",
    "    print(\"Loaded:\", df.shape, \"columns:\", list(df.columns))\n",
    "\n",
    "    print(\"\\n== Preprocessing ==\")\n",
    "    dfp = preprocess(df)\n",
    "    print(\"After preprocess:\", dfp.shape)\n",
    "\n",
    "    # Save processed snapshot\n",
    "    out_proc = PROC / \"asia_nightlights_processed.csv\"\n",
    "    dfp.to_csv(out_proc, index=False)\n",
    "    print(\"Saved:\", out_proc)\n",
    "\n",
    "    print(\"\\n== Aggregations ==\")\n",
    "    aggs = make_aggregates(dfp)\n",
    "    for name, d in aggs.items():\n",
    "        if not d.empty:\n",
    "            out = PROC / f\"{name}.csv\"\n",
    "            d.to_csv(out, index=False)\n",
    "            print(\"Saved:\", out)\n",
    "\n",
    "    print(\"\\n== EDA Plots ==\")\n",
    "    if not aggs[\"asia_year\"].empty:\n",
    "        plot_asia_trend(aggs[\"asia_year\"])  # plots/asia_year_trend.png\n",
    "    if not aggs[\"yearly\"].empty:\n",
    "        plot_country_trends(aggs[\"yearly\"])  # plots/country_year_trends.png\n",
    "    plot_distribution(dfp)  # plots/density_histogram.png\n",
    "    plot_corr_heatmap(dfp)  # plots/correlation_heatmap.png\n",
    "    if not aggs[\"district_rank\"].empty:\n",
    "        plot_top_districts(aggs[\"district_rank\"])  # plots/top_districts.png\n",
    "\n",
    "    print(\"\\n== Baseline Forecast ==\")\n",
    "    if not aggs[\"yearly\"].empty:\n",
    "        baseline_forecast(aggs[\"yearly\"], iso=\"IND\", horizon=3)\n",
    "\n",
    "    print(\"\\nDone. Check the 'processed' CSVs in data/processed/ and PNGs in plots/.\")\n",
    "\n",
    "\n",
    "if __name__ == \"__main__\":\n",
    "    main()\n"
   ]
  },
  {
   "cell_type": "code",
   "execution_count": 23,
   "id": "339623f9-a523-4048-bc9d-1aed57dd0419",
   "metadata": {},
   "outputs": [],
   "source": [
    "# ---- Paths ----\n",
    "DATA = Path(\"D:/LightPollutionProject/data\")\n",
    "SAMPLE = DATA / \"asia_nightlight_sample.csv\"\n",
    "BIG = DATA / \"VIIRS-nighttime-lights-2013m1to2024m5-level2.csv\"\n",
    "PROC = DATA / \"processed\"\n",
    "PLOTS = Path(\"D:/LightPollutionProject/plots\")\n",
    "\n",
    "# Ensure output folders exist\n",
    "PROC.mkdir(parents=True, exist_ok=True)\n",
    "PLOTS.mkdir(parents=True, exist_ok=True)\n"
   ]
  },
  {
   "cell_type": "code",
   "execution_count": 25,
   "id": "510ebdcb-95bf-45c6-9a12-e800c60019d6",
   "metadata": {},
   "outputs": [],
   "source": [
    "def _savefig(path, dpi=150):\n",
    "    \"\"\"Save the current matplotlib figure into the plots/ folder.\"\"\"\n",
    "    path = Path(path)\n",
    "    path.parent.mkdir(parents=True, exist_ok=True)  # make sure folder exists\n",
    "    plt.tight_layout()\n",
    "    plt.savefig(path, dpi=dpi)\n",
    "    plt.close()\n",
    "    print(f\"Saved plot: {path}\")\n"
   ]
  },
  {
   "cell_type": "code",
   "execution_count": 27,
   "id": "59a6b75a-df73-420e-a45d-3c15fd82644d",
   "metadata": {},
   "outputs": [
    {
     "name": "stdout",
     "output_type": "stream",
     "text": [
      "   year  asia_avg_density\n",
      "0  2013          1.065663\n",
      "1  2014          1.154520\n",
      "2  2015          0.956228\n",
      "3  2016          0.791901\n",
      "4  2017          1.894944\n"
     ]
    }
   ],
   "source": [
    "import pandas as pd\n",
    "from pathlib import Path\n",
    "\n",
    "DATA = Path(\"D:/LightPollutionProject/data/processed\")\n",
    "df = pd.read_csv(DATA / \"asia_year.csv\")\n",
    "\n",
    "print(df.head())\n"
   ]
  },
  {
   "cell_type": "code",
   "execution_count": 4,
   "id": "96949125-4f8e-455c-8954-455b47998ebb",
   "metadata": {
    "scrolled": true
   },
   "outputs": [
    {
     "name": "stdout",
     "output_type": "stream",
     "text": [
      "\n",
      "== Forecasting with Prophet ==\n"
     ]
    },
    {
     "name": "stderr",
     "output_type": "stream",
     "text": [
      "20:22:35 - cmdstanpy - INFO - Chain [1] start processing\n",
      "20:22:36 - cmdstanpy - INFO - Chain [1] done processing\n",
      "D:\\Anaconda3\\envs\\lightpollution\\lib\\site-packages\\prophet\\forecaster.py:1872: FutureWarning: 'Y' is deprecated and will be removed in a future version, please use 'YE' instead.\n",
      "  dates = pd.date_range(\n"
     ]
    },
    {
     "name": "stdout",
     "output_type": "stream",
     "text": [
      "Saved forecast: D:\\LightPollutionProject\\data\\processed\\prophet_forecast.csv\n",
      "Saved forecast plot: D:\\LightPollutionProject\\plots\\prophet_forecast.png\n",
      "Saved components plot: D:\\LightPollutionProject\\plots\\prophet_components.png\n"
     ]
    },
    {
     "data": {
      "image/png": "[encoded data removed]",
      "text/plain": [
       "<Figure size 1000x600 with 1 Axes>"
      ]
     },
     "metadata": {},
     "output_type": "display_data"
    },
    {
     "data": {
      "image/png": "[encoded data removed]",
      "text/plain": [
       "<Figure size 900x300 with 1 Axes>"
      ]
     },
     "metadata": {},
     "output_type": "display_data"
    }
   ],
   "source": [
    "# ==== 6. Forecasting with Prophet ====\n",
    "from prophet import Prophet\n",
    "\n",
    "print(\"\\n== Forecasting with Prophet ==\")\n",
    "\n",
    "# Load the yearly aggregated data\n",
    "yearly_path = PROC / \"asia_year.csv\"\n",
    "\n",
    "df_year = pd.read_csv(yearly_path)\n",
    "\n",
    "# Prophet needs columns 'ds' (date/time) and 'y' (value)\n",
    "df_prophet = df_year.rename(columns={\"year\": \"ds\", \"asia_avg_density\": \"y\"})\n",
    "df_prophet[\"ds\"] = pd.to_datetime(df_prophet[\"ds\"], format=\"%Y\")\n",
    "\n",
    "if len(df_prophet) >= 3:  # Prophet works with very small datasets, but 3+ recommended\n",
    "    # Define model\n",
    "    model = Prophet(yearly_seasonality=False, daily_seasonality=False, weekly_seasonality=False)\n",
    "    model.fit(df_prophet)\n",
    "\n",
    "    # Make future dataframe for next 10 years\n",
    "    future = model.make_future_dataframe(periods=10, freq=\"Y\")\n",
    "    forecast = model.predict(future)\n",
    "\n",
    "    # Save forecast results\n",
    "    forecast_path = DATA / \"processed\" / \"prophet_forecast.csv\"\n",
    "    forecast.to_csv(forecast_path, index=False)\n",
    "    print(f\"Saved forecast: {forecast_path}\")\n",
    "\n",
    "    # Plot forecast\n",
    "    fig1 = model.plot(forecast)\n",
    "    plt.title(\"Forecast of Light Pollution (Asia Avg Density)\")\n",
    "    plt.xlabel(\"Year\")\n",
    "    plt.ylabel(\"Average Light Pollution Density\")\n",
    "    plt.tight_layout()\n",
    "    plt_path = DATA.parent / \"plots\" / \"prophet_forecast.png\"\n",
    "    fig1.savefig(plt_path)\n",
    "    print(f\"Saved forecast plot: {plt_path}\")\n",
    "\n",
    "    # Plot components (trend, seasonality)\n",
    "    fig2 = model.plot_components(forecast)\n",
    "    comp_path = DATA.parent / \"plots\" / \"prophet_components.png\"\n",
    "    fig2.savefig(comp_path)\n",
    "    print(f\"Saved components plot: {comp_path}\")\n",
    "else:\n",
    "    print(\"Not enough data points for Prophet to fit reliably.\")\n"
   ]
  },
  {
   "cell_type": "code",
   "execution_count": 5,
   "id": "15347fba-6c79-4f47-b5bb-cb5968d0f07b",
   "metadata": {},
   "outputs": [
    {
     "name": "stdout",
     "output_type": "stream",
     "text": [
      "            ds      yhat  yhat_lower  yhat_upper\n",
      "12  2024-12-31  2.589887    2.280655    2.924516\n",
      "13  2025-12-31  2.733927    2.401995    3.049900\n",
      "14  2026-12-31  2.877967    2.569834    3.179037\n",
      "15  2027-12-31  3.022007    2.693919    3.342613\n",
      "16  2028-12-31  3.166441    2.845904    3.484679\n",
      "17  2029-12-31  3.310482    2.975614    3.627393\n",
      "18  2030-12-31  3.454522    3.132896    3.783713\n",
      "19  2031-12-31  3.598562    3.283544    3.926058\n",
      "20  2032-12-31  3.742996    3.428105    4.071239\n",
      "21  2033-12-31  3.887036    3.553493    4.206397\n"
     ]
    }
   ],
   "source": [
    "df_forecast = pd.read_csv(DATA / \"processed\" / \"prophet_forecast.csv\")\n",
    "print(df_forecast[[\"ds\", \"yhat\", \"yhat_lower\", \"yhat_upper\"]].tail(10))\n"
   ]
  },
  {
   "cell_type": "code",
   "execution_count": 6,
   "id": "7e3d5268-9e35-4692-b43c-15a9d52b93d7",
   "metadata": {},
   "outputs": [
    {
     "name": "stderr",
     "output_type": "stream",
     "text": [
      "20:24:16 - cmdstanpy - INFO - Chain [1] start processing\n",
      "20:24:16 - cmdstanpy - INFO - Chain [1] done processing\n",
      "D:\\Anaconda3\\envs\\lightpollution\\lib\\site-packages\\prophet\\forecaster.py:1872: FutureWarning: 'Y' is deprecated and will be removed in a future version, please use 'YE' instead.\n",
      "  dates = pd.date_range(\n"
     ]
    },
    {
     "name": "stdout",
     "output_type": "stream",
     "text": [
      "Actual 2017: 1.8949435537087296\n",
      "Predicted 2017: 0.7373476230490578\n"
     ]
    }
   ],
   "source": [
    "train = df_prophet[df_prophet[\"ds\"].dt.year < 2017]\n",
    "test = df_prophet[df_prophet[\"ds\"].dt.year == 2017]\n",
    "\n",
    "model = Prophet(yearly_seasonality=False)\n",
    "model.fit(train)\n",
    "\n",
    "future = model.make_future_dataframe(periods=1, freq=\"Y\")\n",
    "forecast = model.predict(future)\n",
    "\n",
    "print(\"Actual 2017:\", test[\"y\"].values[0])\n",
    "print(\"Predicted 2017:\", forecast.tail(1)[\"yhat\"].values[0])\n"
   ]
  },
  {
   "cell_type": "code",
   "execution_count": null,
   "id": "329cf389-22e0-4b4d-b3b5-af878d48e821",
   "metadata": {},
   "outputs": [],
   "source": []
  }
 ],
 "metadata": {
  "kernelspec": {
   "display_name": "Python 3 (ipykernel)",
   "language": "python",
   "name": "python3"
  },
  "language_info": {
   "codemirror_mode": {
    "name": "ipython",
    "version": 3
   },
   "file_extension": ".py",
   "mimetype": "text/x-python",
   "name": "python",
   "nbconvert_exporter": "python",
   "pygments_lexer": "ipython3",
   "version": "3.10.18"
  }
 },
 "nbformat": 4,
 "nbformat_minor": 5
}
